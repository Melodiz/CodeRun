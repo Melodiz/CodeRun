{
 "cells": [
  {
   "cell_type": "code",
   "execution_count": 3,
   "metadata": {},
   "outputs": [],
   "source": [
    "import random\n",
    "from collections import Counter \n",
    "import plotly.express as px\n",
    "import pandas as pd\n",
    "import numpy as np\n",
    "def RandomPermutation():\n",
    "    perm = list(range(8))\n",
    "    random.shuffle(perm)\n",
    "    return perm\n",
    "\n",
    "def StupidPermutation():\n",
    "    partialSums = [0,1,8,35,111,285,\n",
    "        628,1230,2191,3606,5546,8039,11056,14506,18242,  \n",
    "        22078,25814,29264,32281,34774,36714,38129,39090,  \n",
    "        39692,40035,40209,40285,40312,40319,40320]\n",
    "    r = random.randint(0, partialSums[-1])\n",
    "    numInv = 0\n",
    "    while partialSums[numInv] < r:\n",
    "        numInv += 1\n",
    "    perm = list(range(8))\n",
    "    for step in range(numInv):\n",
    "        t1 = random.randint(0, 7)\n",
    "        t2 = random.randint(0, 7)\n",
    "        perm[t1], perm[t2] = perm[t2], perm[t1]\n",
    "    return perm"
   ]
  },
  {
   "cell_type": "code",
   "execution_count": 4,
   "metadata": {},
   "outputs": [],
   "source": [
    "n = 1_000\n",
    "k = 1_000\n",
    "with open('test.in', 'w') as f:\n",
    "    f.write(f'{n}\\n')\n",
    "    for epoch in range(n):\n",
    "        method = random.choice([0,1])\n",
    "        for _ in range(k):\n",
    "            if method == 0:\n",
    "                perm = RandomPermutation()\n",
    "                f.write(' '.join(map(str, perm)) + ' 0\\n')\n",
    "            else:\n",
    "                perm = StupidPermutation()\n",
    "                f.write(' '.join(map(str, perm)) + ' 1\\n')\n",
    "f.close()"
   ]
  }
 ],
 "metadata": {
  "kernelspec": {
   "display_name": "base",
   "language": "python",
   "name": "python3"
  },
  "language_info": {
   "codemirror_mode": {
    "name": "ipython",
    "version": 3
   },
   "file_extension": ".py",
   "mimetype": "text/x-python",
   "name": "python",
   "nbconvert_exporter": "python",
   "pygments_lexer": "ipython3",
   "version": "3.11.7"
  }
 },
 "nbformat": 4,
 "nbformat_minor": 2
}
