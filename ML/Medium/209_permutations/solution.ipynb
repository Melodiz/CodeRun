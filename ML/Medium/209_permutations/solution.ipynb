{
 "cells": [
  {
   "cell_type": "code",
   "execution_count": 167,
   "metadata": {},
   "outputs": [],
   "source": [
    "import numpy as np"
   ]
  },
  {
   "cell_type": "code",
   "execution_count": 168,
   "metadata": {},
   "outputs": [],
   "source": [
    "# def train_read_file_in_chunks(file_path, chunk_size=1000):\n",
    "#     with open(file_path, 'r') as file:\n",
    "#         # Read the first line to get the number of entries\n",
    "#         n = int(file.readline().strip())\n",
    "        \n",
    "#         # Initialize lists for training data and labels\n",
    "#         X_train = []\n",
    "#         y_train = []\n",
    "        \n",
    "#         # Read the file in chunks\n",
    "#         for entity in range(0, n):\n",
    "#             # Read the permutation and label\n",
    "#             chank = []\n",
    "#             line = file.readline().strip().split()\n",
    "            \n",
    "#             # Store the permutation and label in lists\n",
    "#             chank.append(list(map(int, line[:-1])))  # Convert strings to integers)\n",
    "#             y_train.append(list(map(int, line[-1]))) # Convert string to integer)\n",
    "#             for _ in range(chunk_size - 1):\n",
    "#                 line = file.readline().strip().split()\n",
    "#                 chank.append(list(map(int, line[:-1])))  # Convert strings to integers\n",
    "#             X_train.append(chank)\n",
    "        \n",
    "    \n",
    "    # return np.array(X_train), np.array(y_train)\n",
    "\n",
    "def read_file_in_chunks(file_path, chunk_size=1000):\n",
    "    with open(file_path, 'r') as file:\n",
    "        # Read the first line to get the number of entries\n",
    "        n = int(file.readline().strip())\n",
    "        X_test = []\n",
    "\n",
    "        # Read the file in chunks\n",
    "        for entity in range(0, n):\n",
    "            # Read the permutation\n",
    "            chank = []\n",
    "            for _ in range(chunk_size):\n",
    "                line = file.readline().strip().split()\n",
    "                chank.append(list(map(int, line)))  # Convert strings to integers\n",
    "            X_test.append(chank)\n",
    "        \n",
    "        return X_test\n",
    "\n",
    "# X_train, y_train = read_file_in_chunks('test.in')"
   ]
  },
  {
   "cell_type": "code",
   "execution_count": 169,
   "metadata": {},
   "outputs": [],
   "source": [
    "def determine_generation_method(chank):\n",
    "    # count the number of 0s at 0s position, 1s at 1s position, and so on\n",
    "    counter = [0] * 8\n",
    "    for perm in chank:\n",
    "        if perm[0] == 0: counter[0] += 1\n",
    "        if perm[1] == 1: counter[1] += 1\n",
    "        if perm[2] == 2: counter[2] += 1\n",
    "        if perm[3] == 3: counter[3] += 1\n",
    "        if perm[4] == 4: counter[4] += 1\n",
    "        if perm[5] == 5: counter[5] += 1\n",
    "        if perm[6] == 6: counter[6] += 1\n",
    "        if perm[7] == 7: counter[7] += 1\n",
    "    # if the distribution isnt normal, return 1 (stupid)\n",
    "    if sum(counter) > 1085: return 1\n",
    "    else: return 0"
   ]
  },
  {
   "cell_type": "code",
   "execution_count": 170,
   "metadata": {},
   "outputs": [],
   "source": [
    "# results_stupid, results_random = [], []\n",
    "# for i in range(X_train.shape[0]):\n",
    "#     chank = X_train[i]\n",
    "#     lable = y_train[i]\n",
    "#     if lable == 0:\n",
    "#         results_random.append(determine_generation_method(chank))\n",
    "#     else:\n",
    "#         results_stupid.append(determine_generation_method(chank))"
   ]
  },
  {
   "cell_type": "code",
   "execution_count": 171,
   "metadata": {},
   "outputs": [],
   "source": [
    "# results_stupid_mean = np.mean(results_stupid)\n",
    "# results_random_mean = np.mean(results_random)\n",
    "\n",
    "# print(f'Mean of results for Stupid method: {results_stupid_mean}')\n",
    "# print(f'Mean of results for Random method: {results_random_mean}')"
   ]
  },
  {
   "cell_type": "code",
   "execution_count": 172,
   "metadata": {},
   "outputs": [],
   "source": [
    "data = read_file_in_chunks('permutations.in')"
   ]
  },
  {
   "cell_type": "code",
   "execution_count": 173,
   "metadata": {},
   "outputs": [],
   "source": [
    "predicted_labels = []\n",
    "for i in range(len(data)):\n",
    "    chank = data[i]\n",
    "    predicted_labels.append((determine_generation_method(chank), i))\n",
    "predicted_labels.sort(key=lambda x: x[0])"
   ]
  },
  {
   "cell_type": "code",
   "execution_count": 174,
   "metadata": {},
   "outputs": [],
   "source": [
    "with open('permutations.out', 'w') as f:\n",
    "    for i in range(len(predicted_labels)):\n",
    "        f.write(str(predicted_labels[i][1]) + '\\n')"
   ]
  }
 ],
 "metadata": {
  "kernelspec": {
   "display_name": "base",
   "language": "python",
   "name": "python3"
  },
  "language_info": {
   "codemirror_mode": {
    "name": "ipython",
    "version": 3
   },
   "file_extension": ".py",
   "mimetype": "text/x-python",
   "name": "python",
   "nbconvert_exporter": "python",
   "pygments_lexer": "ipython3",
   "version": "3.11.7"
  }
 },
 "nbformat": 4,
 "nbformat_minor": 2
}
