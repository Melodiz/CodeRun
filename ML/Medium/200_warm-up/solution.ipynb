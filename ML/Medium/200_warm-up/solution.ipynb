{
 "cells": [
  {
   "cell_type": "code",
   "execution_count": 17,
   "metadata": {},
   "outputs": [],
   "source": [
    "import numpy as np\n",
    "import pandas as pd\n",
    "from sklearn.linear_model import LinearRegression"
   ]
  },
  {
   "cell_type": "code",
   "execution_count": 18,
   "metadata": {},
   "outputs": [],
   "source": [
    "train = pd.read_csv('train.tsv', sep='\\t', header=None)\n",
    "test = pd.read_csv('test.tsv', sep='\\t', header=None)"
   ]
  },
  {
   "cell_type": "code",
   "execution_count": 19,
   "metadata": {},
   "outputs": [],
   "source": [
    "model = LinearRegression()\n",
    "X_train = train.iloc[:, :100]\n",
    "y_train = train.iloc[:, 100]\n",
    "model.fit(X_train, y_train)\n",
    "X_test = test.iloc[:, :100]\n",
    "predictions = model.predict(X_test)\n",
    "\n",
    "# save predictions to a file 'answer.tsv', where i-th row contains the prediction for the i-th test instance\n",
    "np.savetxt('answer.tsv', predictions, delimiter='\\t')"
   ]
  },
  {
   "cell_type": "code",
   "execution_count": 20,
   "metadata": {},
   "outputs": [
    {
     "name": "stdout",
     "output_type": "stream",
     "text": [
      "Train MAE: 2.079300775070965e-16\n"
     ]
    }
   ],
   "source": [
    "pred = model.predict(X_train)\n",
    "print('Train MAE:', np.mean(np.abs(pred - y_train)))"
   ]
  }
 ],
 "metadata": {
  "kernelspec": {
   "display_name": "base",
   "language": "python",
   "name": "python3"
  },
  "language_info": {
   "codemirror_mode": {
    "name": "ipython",
    "version": 3
   },
   "file_extension": ".py",
   "mimetype": "text/x-python",
   "name": "python",
   "nbconvert_exporter": "python",
   "pygments_lexer": "ipython3",
   "version": "3.11.7"
  }
 },
 "nbformat": 4,
 "nbformat_minor": 2
}
