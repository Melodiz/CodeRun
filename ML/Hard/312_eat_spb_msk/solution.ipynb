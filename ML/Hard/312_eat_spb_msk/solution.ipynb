{
 "cells": [
  {
   "cell_type": "code",
   "execution_count": 1,
   "metadata": {},
   "outputs": [
    {
     "name": "stderr",
     "output_type": "stream",
     "text": [
      "/Users/melodiz/projects/CodeRun/ML/Hard/312_eat-spb-msk/env/lib/python3.12/site-packages/tqdm/auto.py:21: TqdmWarning: IProgress not found. Please update jupyter and ipywidgets. See https://ipywidgets.readthedocs.io/en/stable/user_install.html\n",
      "  from .autonotebook import tqdm as notebook_tqdm\n"
     ]
    }
   ],
   "source": [
    "import pandas as pd\n",
    "import numpy as np\n",
    "from tqdm.notebook import tqdm\n",
    "import scipy\n",
    "from implicit.evaluation import train_test_split\n",
    "from implicit.als import AlternatingLeastSquares"
   ]
  },
  {
   "cell_type": "code",
   "execution_count": 2,
   "metadata": {},
   "outputs": [],
   "source": [
    "test_df = pd.read_csv('data/test_users.csv')\n",
    "reviews = pd.read_csv('data/reviews.csv', index_col=0)\n",
    "reviews['rating'] = np.array(reviews.rating.fillna(0) + 1)\n",
    "orgs = pd.read_csv('data/organisations.csv')\n",
    "users = pd.read_csv('data/users.csv')\n",
    "\n",
    "# encode users ids as numeric\n",
    "reviews = reviews.merge(users, on='user_id')\n",
    "reviews = reviews.rename({'city': 'user_city'}, axis=1)\n",
    "\n",
    "# # encode orgs ids as numeric\n",
    "reviews = reviews.merge(orgs[['org_id', 'city','rubrics_id','features_id','rating','average_bill']], on='org_id')\n",
    "reviews = reviews.rename({'city': 'org_city'}, axis=1)"
   ]
  },
  {
   "cell_type": "code",
   "execution_count": 3,
   "metadata": {},
   "outputs": [],
   "source": [
    "rows, r_pos = np.unique(reviews.values[:,1], return_inverse=True)  # Extract unique user IDs and their positions\n",
    "cols, c_pos = np.unique(reviews.values[:,0], return_inverse=True)  # Extract unique organization IDs and their positions"
   ]
  },
  {
   "cell_type": "code",
   "execution_count": 4,
   "metadata": {},
   "outputs": [],
   "source": [
    "# Create a sparse matrix of user-organization interactions with ratings as values\n",
    "interactions_sparse = scipy.sparse.csr_matrix((np.array(reviews['rating_x'], dtype=np.float64), (r_pos, c_pos)))"
   ]
  },
  {
   "cell_type": "code",
   "execution_count": 5,
   "metadata": {},
   "outputs": [],
   "source": [
    "train, test_set = train_test_split(interactions_sparse,0.99)"
   ]
  },
  {
   "cell_type": "code",
   "execution_count": 6,
   "metadata": {},
   "outputs": [
    {
     "name": "stderr",
     "output_type": "stream",
     "text": [
      "100%|██████████| 10/10 [14:39<00:00, 87.97s/it]\n"
     ]
    }
   ],
   "source": [
    "machine = AlternatingLeastSquares(factors = 512, iterations=10)\n",
    "\n",
    "machine.fit(train)"
   ]
  },
  {
   "cell_type": "code",
   "execution_count": 7,
   "metadata": {},
   "outputs": [],
   "source": [
    "reviews['r_pos'] = r_pos  # Add the numeric user indices as a new column 'r_pos' in the reviews DataFrame\n",
    "reviews['c_pos'] = c_pos  # Add the numeric organization indices as a new column 'c_pos' in the reviews DataFrame"
   ]
  },
  {
   "cell_type": "code",
   "execution_count": 9,
   "metadata": {},
   "outputs": [],
   "source": [
    "test = pd.read_csv('data/test_users.csv',index_col=0)\n",
    "test = test.merge(reviews,how='left')[['user_id','user_city','r_pos']].drop_duplicates('user_id')\n",
    "orgs = reviews[['org_id','org_city','c_pos']].drop_duplicates('org_id')\n"
   ]
  },
  {
   "cell_type": "code",
   "execution_count": 15,
   "metadata": {},
   "outputs": [],
   "source": [
    "res = []\n",
    "for indx,row in test.iterrows():\n",
    "    user_city = row['user_city']\n",
    "    user_pos = row['r_pos']\n",
    "    to_exclude = orgs[orgs.org_city != user_city].c_pos.tolist()\n",
    "    try:\n",
    "        recommend_index, scores = machine.recommend(user_pos,\n",
    "                                                    interactions_sparse[user_pos],\n",
    "                                                    items=to_exclude,\n",
    "                                                    filter_already_liked_items=True,\n",
    "                                                    N=40)\n",
    "        res.append((row['user_id'],\n",
    "                    list(cols[recommend_index])))\n",
    "    except:\n",
    "        res.append((row['user_id'],[]))"
   ]
  },
  {
   "cell_type": "code",
   "execution_count": 16,
   "metadata": {},
   "outputs": [],
   "source": [
    "answers = pd.DataFrame(res,columns=['user_id','target'])"
   ]
  },
  {
   "cell_type": "code",
   "execution_count": 17,
   "metadata": {},
   "outputs": [],
   "source": [
    "answers.to_csv('answers.csv')"
   ]
  }
 ],
 "metadata": {
  "kernelspec": {
   "display_name": "base",
   "language": "python",
   "name": "python3"
  },
  "language_info": {
   "codemirror_mode": {
    "name": "ipython",
    "version": 3
   },
   "file_extension": ".py",
   "mimetype": "text/x-python",
   "name": "python",
   "nbconvert_exporter": "python",
   "pygments_lexer": "ipython3",
   "version": "3.12.5"
  }
 },
 "nbformat": 4,
 "nbformat_minor": 2
}
