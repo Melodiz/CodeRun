{
 "cells": [
  {
   "cell_type": "code",
   "execution_count": 93,
   "metadata": {},
   "outputs": [],
   "source": [
    "import pandas as pd\n",
    "import numpy as np\n",
    "from sklearn.linear_model import LinearRegression, Ridge, Lasso\n",
    "from sklearn.model_selection import train_test_split\n",
    "from math import pi, e"
   ]
  },
  {
   "cell_type": "code",
   "execution_count": 94,
   "metadata": {},
   "outputs": [],
   "source": [
    "data = pd.read_csv('data.csv', header=None).rename(columns={0: 'x', 1: 'y'})"
   ]
  },
  {
   "cell_type": "code",
   "execution_count": 95,
   "metadata": {},
   "outputs": [
    {
     "name": "stdout",
     "output_type": "stream",
     "text": [
      "Coefficients: [3.141593427149599, 2.718524779146604, 3.9999536485392957]\n"
     ]
    }
   ],
   "source": [
    "# Transform the data according to the given formula\n",
    "data['x1'] = np.sin(data['x'])**2\n",
    "data['x2'] = np.log(data['x'])**2\n",
    "data['x3'] = 2 * np.sin(data['x']) * np.log(data['x'])\n",
    "data['x4'] = data['x']**2\n",
    "\n",
    "# Define features and target\n",
    "X = data[['x1', 'x2', 'x3', 'x4']]\n",
    "y = data['y']\n",
    "\n",
    "# Split the data into train and test sets\n",
    "X_train, X_test, y_train, y_test = train_test_split(X, y, test_size=0.2, random_state=42)\n",
    "\n",
    "# Create and train the linear regression model\n",
    "model = LinearRegression()\n",
    "model.fit(X_train, y_train)\n",
    "\n",
    "# Get the coefficients\n",
    "coefficients = model.coef_\n",
    "coefficients = [np.sqrt(coefficients[0]), np.sqrt(coefficients[1]), coefficients[3]]\n",
    "print('Coefficients:', coefficients)"
   ]
  },
  {
   "cell_type": "code",
   "execution_count": 96,
   "metadata": {},
   "outputs": [],
   "source": [
    "# 9.86960926 7.39037697 8.54008736 3.99995365\n",
    "def calc(x, coefs):\n",
    "    return (coefs[0] * np.sin(x) + coefs[1] * np.log(x))**2 + coefs[2] * x ** 2\n",
    "\n",
    "def calc_mse(coefs, data):\n",
    "    preds = []\n",
    "    for row in data.itertuples():\n",
    "        x, y = row[1], row[2]\n",
    "        y_pred = calc(x, coefs)\n",
    "        preds.append(y_pred)\n",
    "    return np.mean(np.abs(preds - data['y']))"
   ]
  },
  {
   "cell_type": "code",
   "execution_count": 97,
   "metadata": {},
   "outputs": [
    {
     "name": "stdout",
     "output_type": "stream",
     "text": [
      "Initial MSE: 0.018050824320178727\n",
      "Best MAE: 0.018050824320178727\n",
      "Best Coefficients: [3.141592653589793, 2.718281828459045, 4]\n"
     ]
    }
   ],
   "source": [
    "print('Initial MSE:', calc_mse([np.pi, e, 4], data))\n",
    "\n",
    "best_mae = calc_mse([np.pi, e, 4], data)\n",
    "best_coefs = [np.pi, e, 4]\n",
    "\n",
    "# for a in range(-10, 11):\n",
    "#     for b in range(-10, 11):\n",
    "#         for c in range(-10, 11):\n",
    "#             _coefs = [np.pi + a/100, e + b/100, 4 + c/100]\n",
    "#             if calc_mse(_coefs, data) < best_mae:\n",
    "#                 best_mae = calc_mse(_coefs, data)\n",
    "#                 best_coefs = _coefs\n",
    "\n",
    "print('Best MAE:', best_mae)\n",
    "print('Best Coefficients:', best_coefs)"
   ]
  }
 ],
 "metadata": {
  "kernelspec": {
   "display_name": "base",
   "language": "python",
   "name": "python3"
  },
  "language_info": {
   "codemirror_mode": {
    "name": "ipython",
    "version": 3
   },
   "file_extension": ".py",
   "mimetype": "text/x-python",
   "name": "python",
   "nbconvert_exporter": "python",
   "pygments_lexer": "ipython3",
   "version": "3.11.7"
  }
 },
 "nbformat": 4,
 "nbformat_minor": 2
}
